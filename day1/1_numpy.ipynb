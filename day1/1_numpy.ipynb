{
 "cells": [
  {
   "cell_type": "markdown",
   "metadata": {},
   "source": [
    "# 넘파이\n",
    "\n",
    "**선형대수와 통계 등에 기반**  \n",
    "**Numerical Python을 의미**  \n",
    "**루프를 사용하지 않고 대량의 배열 연산 가능**  \n",
    "**저수준 언어 기반의 호환 API를 제공**  \n",
    "왜냐하면 넘파이는 빠른 배열 연산을 보장해주지만, 파이썬 언어 자체가 가지는 수행 성능의 제약이 있어서 수해 성능이 매우 중요한 부분은 C/C++ 기반의 코드로 작성하고 이를 넘파이에서 호출하는 방식으로 쉽게 통합이 가능하기 때문\n",
    "\n"
   ]
  },
  {
   "cell_type": "code",
   "execution_count": 1,
   "metadata": {},
   "outputs": [],
   "source": [
    "import numpy as np"
   ]
  },
  {
   "cell_type": "code",
   "execution_count": 2,
   "metadata": {},
   "outputs": [
    {
     "name": "stdout",
     "output_type": "stream",
     "text": [
      "array1 type  <class 'numpy.ndarray'>\n",
      "array1 형태 :  (3,)\n",
      "array2 type  <class 'numpy.ndarray'>\n",
      "array2 shape :  (2, 3)\n"
     ]
    }
   ],
   "source": [
    "array1 = np.array([1,2,3])\n",
    "print('array1 type ', type(array1))\n",
    "print('array1 형태 : ', array1.shape)\n",
    "\n",
    "array2 = np.array([[1,2,3], [4,5,6]])\n",
    "print('array2 type ', type(array2))\n",
    "print('array2 shape : ', array2.shape)"
   ]
  },
  {
   "cell_type": "code",
   "execution_count": 3,
   "metadata": {},
   "outputs": [
    {
     "name": "stdout",
     "output_type": "stream",
     "text": [
      "array1 : 1차원, array2 : 2차원 \n"
     ]
    }
   ],
   "source": [
    "print('array1 : {:0}차원, array2 : {:1}차원 '.format(array1.ndim, array2.ndim))"
   ]
  },
  {
   "cell_type": "code",
   "execution_count": 4,
   "metadata": {},
   "outputs": [
    {
     "name": "stdout",
     "output_type": "stream",
     "text": [
      "int32\n"
     ]
    }
   ],
   "source": [
    "print(array1.dtype)"
   ]
  },
  {
   "cell_type": "markdown",
   "metadata": {},
   "source": [
    "더 큰 데이터 타입으로 형변환이 된다."
   ]
  },
  {
   "cell_type": "code",
   "execution_count": 5,
   "metadata": {},
   "outputs": [
    {
     "name": "stdout",
     "output_type": "stream",
     "text": [
      "<U11\n",
      "float64\n"
     ]
    }
   ],
   "source": [
    "array2 = np.array([1, 2, 'test'])\n",
    "array3 = np.array([1, 2, 3.0])\n",
    "\n",
    "print(array2.dtype)\n",
    "print(array3.dtype)"
   ]
  },
  {
   "cell_type": "markdown",
   "metadata": {},
   "source": [
    "astype으로 형변환이 가능하다.\n",
    "\n",
    "메모리를 더 절약해야 할 때 이용한다. float64, float32, int64, int32 등이 있으므로!"
   ]
  },
  {
   "cell_type": "code",
   "execution_count": 6,
   "metadata": {},
   "outputs": [
    {
     "name": "stdout",
     "output_type": "stream",
     "text": [
      "[1 2 3]\n",
      "[1. 2. 3.]\n",
      "[1 2 3]\n",
      "[1 2 3]\n"
     ]
    }
   ],
   "source": [
    "array1 = np.array([1,2,3])\n",
    "print(array1)\n",
    "array1_float = array1.astype('float64')\n",
    "print(array1_float)\n",
    "array1_int = array1_float.astype('int32')\n",
    "print(array1_int)\n",
    "array_float2 = np.array([1.1, 2.1, 3.1])\n",
    "array_int2 = array_float2.astype('int32')\n",
    "print(array_int2)"
   ]
  },
  {
   "cell_type": "markdown",
   "metadata": {},
   "source": [
    "쉽게 생성하기"
   ]
  },
  {
   "cell_type": "code",
   "execution_count": 7,
   "metadata": {},
   "outputs": [
    {
     "name": "stdout",
     "output_type": "stream",
     "text": [
      "[0 1 2 3 4 5 6 7 8 9]\n"
     ]
    }
   ],
   "source": [
    "array = np.arange(10)\n",
    "print(array)"
   ]
  },
  {
   "cell_type": "code",
   "execution_count": 8,
   "metadata": {},
   "outputs": [
    {
     "name": "stdout",
     "output_type": "stream",
     "text": [
      "[5 6 7 8 9]\n"
     ]
    }
   ],
   "source": [
    "array = np.arange(5, 10)\n",
    "print(array)"
   ]
  },
  {
   "cell_type": "code",
   "execution_count": 9,
   "metadata": {},
   "outputs": [
    {
     "name": "stdout",
     "output_type": "stream",
     "text": [
      "[[0 0]\n",
      " [0 0]\n",
      " [0 0]]\n",
      "[[1. 1.]\n",
      " [1. 1.]\n",
      " [1. 1.]]\n"
     ]
    }
   ],
   "source": [
    "zero_array = np.zeros((3, 2), dtype='int32')\n",
    "one_array = np.ones((3, 2))\n",
    "print(zero_array)\n",
    "print(one_array)"
   ]
  },
  {
   "cell_type": "markdown",
   "metadata": {},
   "source": [
    "reshape로 모양 변경하기"
   ]
  },
  {
   "cell_type": "code",
   "execution_count": 10,
   "metadata": {},
   "outputs": [
    {
     "name": "stdout",
     "output_type": "stream",
     "text": [
      "[0 1 2 3 4 5 6 7 8 9]\n",
      "[[0 1 2 3 4]\n",
      " [5 6 7 8 9]]\n",
      "[[0 1]\n",
      " [2 3]\n",
      " [4 5]\n",
      " [6 7]\n",
      " [8 9]]\n"
     ]
    }
   ],
   "source": [
    "array = np.arange(10)\n",
    "array1 = array.reshape(2, 5)\n",
    "array2 = array.reshape(5, 2)\n",
    "print(array)\n",
    "print(array1)\n",
    "print(array2)"
   ]
  },
  {
   "cell_type": "code",
   "execution_count": 11,
   "metadata": {},
   "outputs": [
    {
     "name": "stdout",
     "output_type": "stream",
     "text": [
      "[[0 1 2 3 4]\n",
      " [5 6 7 8 9]] (2, 5)\n",
      "[[0 1]\n",
      " [2 3]\n",
      " [4 5]\n",
      " [6 7]\n",
      " [8 9]] (5, 2)\n"
     ]
    }
   ],
   "source": [
    "array1 = array.reshape(-1, 5)\n",
    "array2 = array.reshape(5, -1)\n",
    "print(array1, array1.shape)\n",
    "print(array2, array2.shape)"
   ]
  },
  {
   "cell_type": "markdown",
   "metadata": {},
   "source": [
    "(-1, 1)과 같은 형태를 사용하면 3d를 2d로 1d를 2d로 바꿔줄 수 있다"
   ]
  },
  {
   "cell_type": "code",
   "execution_count": 12,
   "metadata": {},
   "outputs": [
    {
     "name": "stdout",
     "output_type": "stream",
     "text": [
      "[[[0 1]\n",
      "  [2 3]]\n",
      "\n",
      " [[4 5]\n",
      "  [6 7]]] (2, 2, 2)\n",
      "[[0]\n",
      " [1]\n",
      " [2]\n",
      " [3]\n",
      " [4]\n",
      " [5]\n",
      " [6]\n",
      " [7]] (8, 1)\n",
      "[[0]\n",
      " [1]\n",
      " [2]\n",
      " [3]\n",
      " [4]\n",
      " [5]\n",
      " [6]\n",
      " [7]] (8, 1)\n"
     ]
    }
   ],
   "source": [
    "array1 = np.arange(8)\n",
    "array3d = array1.reshape(2,2,2)\n",
    "print(array3d, array3d.shape)\n",
    "array2d = array3d.reshape(-1, 1)\n",
    "print(array2d, array2d.shape)\n",
    "\n",
    "#1차원을 2차원으로\n",
    "array2d_2 = array1.reshape(-1, 1)\n",
    "print(array2d_2, array2d_2.shape)"
   ]
  },
  {
   "cell_type": "markdown",
   "metadata": {},
   "source": [
    "**인덱싱**"
   ]
  },
  {
   "cell_type": "code",
   "execution_count": 13,
   "metadata": {},
   "outputs": [
    {
     "name": "stdout",
     "output_type": "stream",
     "text": [
      "3\n",
      "[[1 2 3]\n",
      " [4 5 6]\n",
      " [7 8 9]]\n",
      "2\n",
      "6\n"
     ]
    }
   ],
   "source": [
    "#단일 인덱싱\n",
    "array1 = np.arange(1, 10)\n",
    "print(array1[2])\n",
    "\n",
    "# 2차원 배열로 변환\n",
    "array2 = array1.reshape(3, -1)\n",
    "print(array2)\n",
    "print(array2[0, 1])\n",
    "print(array2[1, 2])"
   ]
  },
  {
   "cell_type": "markdown",
   "metadata": {},
   "source": [
    "**axis = 1과 0이 중요하다**\n",
    "\n",
    "axis = 0은 로우 방향의 축을 의미한다.  \n",
    "axis = 1은 컬럼 방향의 축을 의미한다. \n",
    "\n",
    "여기서 중요한 것! **방향의** 라는 단어이다. 로우 방향은 아래로 가는 것이고, 컬럼 방향은 가로로 가는 것.\n",
    "\n",
    "3차원이면 axis 0, 1, 2를 가지게 된다. 행, 열, 높이 이다."
   ]
  },
  {
   "cell_type": "code",
   "execution_count": 14,
   "metadata": {},
   "outputs": [
    {
     "name": "stdout",
     "output_type": "stream",
     "text": [
      "[2 3]\n",
      "[1 2 3 4 5]\n",
      "[5 6 7 8 9]\n"
     ]
    }
   ],
   "source": [
    "#슬라이싱   -> 인덱싱 기반 접근이라 마지막 숫자 -1 까지의 값을 뽑아낸다.\n",
    "print(array1[1:3])\n",
    "print(array1[:5])\n",
    "print(array1[4:])"
   ]
  },
  {
   "cell_type": "code",
   "execution_count": 15,
   "metadata": {},
   "outputs": [
    {
     "name": "stdout",
     "output_type": "stream",
     "text": [
      "[[1 2]\n",
      " [4 5]] \n",
      "\n",
      "[[4 5 6]\n",
      " [7 8 9]] \n",
      "\n",
      "[[2 3]\n",
      " [5 6]] \n",
      "\n"
     ]
    }
   ],
   "source": [
    "print(array2[0:2, 0:2], '\\n')\n",
    "print(array2[1:3, 0:3], '\\n')\n",
    "print(array2[:2, 1:], '\\n')"
   ]
  },
  {
   "cell_type": "markdown",
   "metadata": {},
   "source": [
    "**불린 인덱싱**\n",
    "\n",
    "조건 필터링과 검색을 동시에 할 수 있다.\n",
    "\n",
    "5보다 큰 데이터를 추출하거나 그렇게 할 수 있는 것"
   ]
  },
  {
   "cell_type": "code",
   "execution_count": 16,
   "metadata": {},
   "outputs": [],
   "source": [
    "array1d = np.arange(1, 10)\n",
    "array_tmp = array1d[array1d > 5]"
   ]
  },
  {
   "cell_type": "code",
   "execution_count": 17,
   "metadata": {},
   "outputs": [
    {
     "data": {
      "text/plain": [
       "array([6, 7, 8, 9])"
      ]
     },
     "execution_count": 17,
     "metadata": {},
     "output_type": "execute_result"
    }
   ],
   "source": [
    "array_tmp"
   ]
  },
  {
   "cell_type": "code",
   "execution_count": 20,
   "metadata": {},
   "outputs": [
    {
     "data": {
      "text/plain": [
       "array([False, False, False, False, False,  True,  True,  True,  True])"
      ]
     },
     "execution_count": 20,
     "metadata": {},
     "output_type": "execute_result"
    }
   ],
   "source": [
    "#단순히 아래와 같이 하면 True, False list가 나온다.\n",
    "list = array1d > 5\n",
    "list"
   ]
  },
  {
   "cell_type": "code",
   "execution_count": 21,
   "metadata": {},
   "outputs": [
    {
     "data": {
      "text/plain": [
       "array([6, 7, 8, 9])"
      ]
     },
     "execution_count": 21,
     "metadata": {},
     "output_type": "execute_result"
    }
   ],
   "source": [
    "# 이것을 리스트에 적용하면 똑같이 뽑아낼 수 있다.\n",
    "array_tmp = array1d[list]\n",
    "array_tmp"
   ]
  },
  {
   "cell_type": "markdown",
   "metadata": {},
   "source": [
    "# 정렬 sort()와 argsort()\n",
    "\n",
    "numpy에서 행렬을 정렬하는 대표적인 방법인 np.sort()와 ndarray.sort() 그리고 정렬된 행렬의 인덱스를 반환하는 argsort()가 있다.\n",
    "\n",
    "np.sort는 원본은 유지한 채 정렬된 행렬을 반환한다.  \n",
    "ndarray.sort()는 원 행렬 자체를 정렬하고 반환은 없다."
   ]
  },
  {
   "cell_type": "code",
   "execution_count": 22,
   "metadata": {},
   "outputs": [
    {
     "data": {
      "text/plain": [
       "array([1, 3, 5, 9])"
      ]
     },
     "execution_count": 22,
     "metadata": {},
     "output_type": "execute_result"
    }
   ],
   "source": [
    "original_array = np.array([5,1,3,9])\n",
    "np_sort = np.sort(original_array)\n",
    "np_sort"
   ]
  },
  {
   "cell_type": "code",
   "execution_count": 25,
   "metadata": {},
   "outputs": [],
   "source": [
    "ndarray_sort = original_array.sort()\n",
    "ndarray_sort"
   ]
  },
  {
   "cell_type": "code",
   "execution_count": 27,
   "metadata": {},
   "outputs": [
    {
     "data": {
      "text/plain": [
       "array([1, 3, 5, 9])"
      ]
     },
     "execution_count": 27,
     "metadata": {},
     "output_type": "execute_result"
    }
   ],
   "source": [
    "original_array.sort()\n",
    "original_array"
   ]
  },
  {
   "cell_type": "markdown",
   "metadata": {},
   "source": [
    "**내림차순 정렬**"
   ]
  },
  {
   "cell_type": "code",
   "execution_count": 28,
   "metadata": {},
   "outputs": [
    {
     "data": {
      "text/plain": [
       "array([9, 5, 3, 1])"
      ]
     },
     "execution_count": 28,
     "metadata": {},
     "output_type": "execute_result"
    }
   ],
   "source": [
    "original_array = np.array([5,1,3,9])\n",
    "np_sort = np.sort(original_array)[::-1]\n",
    "np_sort"
   ]
  },
  {
   "cell_type": "code",
   "execution_count": 31,
   "metadata": {},
   "outputs": [
    {
     "data": {
      "text/plain": [
       "array([9, 5, 3, 1])"
      ]
     },
     "execution_count": 31,
     "metadata": {},
     "output_type": "execute_result"
    }
   ],
   "source": [
    "original_array.sort()\n",
    "original_array[::-1]"
   ]
  },
  {
   "cell_type": "markdown",
   "metadata": {},
   "source": [
    "2차원 이상일 경우에는 axis를 이용해서 정렬할 수 있다.\n",
    "\n",
    "0은 행 방향, 1은 열 방향이다.\n",
    "\n"
   ]
  },
  {
   "cell_type": "code",
   "execution_count": 37,
   "metadata": {},
   "outputs": [
    {
     "data": {
      "text/plain": [
       "array([[ 4, 25],\n",
       "       [55, 15]])"
      ]
     },
     "execution_count": 37,
     "metadata": {},
     "output_type": "execute_result"
    }
   ],
   "source": [
    "array = np.array([[4, 25],\n",
    "                 [55,15]])\n",
    "array"
   ]
  },
  {
   "cell_type": "code",
   "execution_count": 38,
   "metadata": {},
   "outputs": [
    {
     "data": {
      "text/plain": [
       "array([[ 4, 15],\n",
       "       [55, 25]])"
      ]
     },
     "execution_count": 38,
     "metadata": {},
     "output_type": "execute_result"
    }
   ],
   "source": [
    "# 행 방향으로 정렬\n",
    "array_sort = np.sort(array, axis = 0)\n",
    "array_sort"
   ]
  },
  {
   "cell_type": "code",
   "execution_count": 39,
   "metadata": {},
   "outputs": [
    {
     "data": {
      "text/plain": [
       "array([[ 4, 25],\n",
       "       [15, 55]])"
      ]
     },
     "execution_count": 39,
     "metadata": {},
     "output_type": "execute_result"
    }
   ],
   "source": [
    "array_sort = np.sort(array, axis = 1)\n",
    "array_sort"
   ]
  },
  {
   "cell_type": "code",
   "execution_count": null,
   "metadata": {},
   "outputs": [],
   "source": []
  },
  {
   "cell_type": "markdown",
   "metadata": {},
   "source": [
    "# 정렬된 행렬의 인덱스 반환\n",
    "\n",
    "원본 행렬이 정렬되었을 때 기존 원본 행렬의 원소에 대한 인덱스가 필요할 수도 있다.  \n",
    "\n",
    "이때 np.argsort()를 이용하면 된다.\n",
    "\n",
    "![100](https://user-images.githubusercontent.com/24634054/66709927-fa3b7500-eda8-11e9-9e9f-f9eac21a979e.JPG)\n",
    "\n"
   ]
  },
  {
   "cell_type": "code",
   "execution_count": 2,
   "metadata": {},
   "outputs": [
    {
     "name": "stdout",
     "output_type": "stream",
     "text": [
      "[1 3 5 9]\n",
      "[1 0 3 2]\n"
     ]
    }
   ],
   "source": [
    "array = np.array([3, 1, 9, 5])\n",
    "array_sort = np.sort(array)\n",
    "array_index = np.argsort(array)\n",
    "print(array_sort)\n",
    "print(array_index)"
   ]
  },
  {
   "cell_type": "markdown",
   "metadata": {},
   "source": [
    "이렇게 인덱스를 구할 수 있다."
   ]
  },
  {
   "cell_type": "markdown",
   "metadata": {},
   "source": [
    "# 선형대수 연산 - 행렬 내적과 전치 행렬 구하기\n",
    "\n",
    "**행렬 내적(행렬 곱)**\n",
    "\n",
    "행렬 내적은 행렬 곱이며, 두 행렬 A와 B의 내적은 np.dot()을 이용해 계산이 가능하다."
   ]
  },
  {
   "cell_type": "code",
   "execution_count": 44,
   "metadata": {},
   "outputs": [
    {
     "data": {
      "text/plain": [
       "array([[ 58,  64],\n",
       "       [139, 154]])"
      ]
     },
     "execution_count": 44,
     "metadata": {},
     "output_type": "execute_result"
    }
   ],
   "source": [
    "A = np.array([[1,2,3],\n",
    "             [4,5,6]])\n",
    "B = np.array([[7,8],\n",
    "             [9,10],\n",
    "             [11,12]])\n",
    "\n",
    "dot_array = np.dot(A, B)\n",
    "dot_array"
   ]
  },
  {
   "cell_type": "markdown",
   "metadata": {},
   "source": [
    "**전치 행렬**\n",
    "\n",
    "원 행렬에서 행, 열 위치를 바꾼 행렬을 전치 행렬이라고 한다. np.transpost를 이용해서 구할 수 있다.\n"
   ]
  },
  {
   "cell_type": "code",
   "execution_count": 45,
   "metadata": {},
   "outputs": [
    {
     "data": {
      "text/plain": [
       "array([[1, 4],\n",
       "       [2, 5],\n",
       "       [3, 6]])"
      ]
     },
     "execution_count": 45,
     "metadata": {},
     "output_type": "execute_result"
    }
   ],
   "source": [
    "A = np.transpose(A)\n",
    "A"
   ]
  },
  {
   "cell_type": "code",
   "execution_count": null,
   "metadata": {},
   "outputs": [],
   "source": []
  }
 ],
 "metadata": {
  "kernelspec": {
   "display_name": "Python 3",
   "language": "python",
   "name": "python3"
  },
  "language_info": {
   "codemirror_mode": {
    "name": "ipython",
    "version": 3
   },
   "file_extension": ".py",
   "mimetype": "text/x-python",
   "name": "python",
   "nbconvert_exporter": "python",
   "pygments_lexer": "ipython3",
   "version": "3.6.9"
  }
 },
 "nbformat": 4,
 "nbformat_minor": 2
}
